{
 "cells": [
  {
   "cell_type": "markdown",
   "id": "76658bdc",
   "metadata": {},
   "source": [
    "### Importar las librerías a utilizar"
   ]
  },
  {
   "cell_type": "code",
   "execution_count": 2,
   "id": "1b63a35b",
   "metadata": {
    "tags": []
   },
   "outputs": [
    {
     "name": "stderr",
     "output_type": "stream",
     "text": [
      "c:\\Users\\Usuario\\AppData\\Local\\Programs\\Python\\Python310\\lib\\site-packages\\tqdm\\auto.py:21: TqdmWarning: IProgress not found. Please update jupyter and ipywidgets. See https://ipywidgets.readthedocs.io/en/stable/user_install.html\n",
      "  from .autonotebook import tqdm as notebook_tqdm\n",
      "c:\\Users\\Usuario\\AppData\\Local\\Programs\\Python\\Python310\\lib\\site-packages\\requests\\__init__.py:102: RequestsDependencyWarning: urllib3 (1.26.9) or chardet (5.2.0)/charset_normalizer (2.0.12) doesn't match a supported version!\n",
      "  warnings.warn(\"urllib3 ({}) or chardet ({})/charset_normalizer ({}) doesn't match a supported \"\n"
     ]
    }
   ],
   "source": [
    "import pandas as pd\n",
    "#from pandas_profiling import ProfileReport   # para versiones Python < 3.11\n",
    "from ydata_profiling import ProfileReport     # para versiones Python >= 3.11\n",
    "from sklearn.preprocessing import LabelEncoder\n",
    "import matplotlib.pyplot as plt\n",
    "import seaborn as sns\n",
    "\n",
    "%matplotlib inline"
   ]
  },
  {
   "cell_type": "markdown",
   "id": "8a6fc844",
   "metadata": {},
   "source": [
    "### Leer archivo de datos"
   ]
  },
  {
   "cell_type": "code",
   "execution_count": 3,
   "id": "f93ab332",
   "metadata": {},
   "outputs": [],
   "source": [
    "datos = pd.read_csv(\"titanic3.csv\")"
   ]
  },
  {
   "cell_type": "code",
   "execution_count": 4,
   "id": "c116dd2b",
   "metadata": {
    "scrolled": true
   },
   "outputs": [
    {
     "data": {
      "text/html": [
       "<div>\n",
       "<style scoped>\n",
       "    .dataframe tbody tr th:only-of-type {\n",
       "        vertical-align: middle;\n",
       "    }\n",
       "\n",
       "    .dataframe tbody tr th {\n",
       "        vertical-align: top;\n",
       "    }\n",
       "\n",
       "    .dataframe thead th {\n",
       "        text-align: right;\n",
       "    }\n",
       "</style>\n",
       "<table border=\"1\" class=\"dataframe\">\n",
       "  <thead>\n",
       "    <tr style=\"text-align: right;\">\n",
       "      <th></th>\n",
       "      <th>pclass</th>\n",
       "      <th>survived</th>\n",
       "      <th>name</th>\n",
       "      <th>sex</th>\n",
       "      <th>age</th>\n",
       "      <th>sibsp</th>\n",
       "      <th>parch</th>\n",
       "      <th>ticket</th>\n",
       "      <th>fare</th>\n",
       "      <th>cabin</th>\n",
       "      <th>embarked</th>\n",
       "      <th>boat</th>\n",
       "      <th>body</th>\n",
       "      <th>home.dest</th>\n",
       "    </tr>\n",
       "  </thead>\n",
       "  <tbody>\n",
       "    <tr>\n",
       "      <th>0</th>\n",
       "      <td>1</td>\n",
       "      <td>1</td>\n",
       "      <td>Allen, Miss. Elisabeth Walton</td>\n",
       "      <td>female</td>\n",
       "      <td>29.0000</td>\n",
       "      <td>0</td>\n",
       "      <td>0</td>\n",
       "      <td>24160</td>\n",
       "      <td>211.3375</td>\n",
       "      <td>B5</td>\n",
       "      <td>S</td>\n",
       "      <td>2</td>\n",
       "      <td>NaN</td>\n",
       "      <td>St Louis, MO</td>\n",
       "    </tr>\n",
       "    <tr>\n",
       "      <th>1</th>\n",
       "      <td>1</td>\n",
       "      <td>1</td>\n",
       "      <td>Allison, Master. Hudson Trevor</td>\n",
       "      <td>male</td>\n",
       "      <td>0.9167</td>\n",
       "      <td>1</td>\n",
       "      <td>2</td>\n",
       "      <td>113781</td>\n",
       "      <td>151.5500</td>\n",
       "      <td>C22 C26</td>\n",
       "      <td>S</td>\n",
       "      <td>11</td>\n",
       "      <td>NaN</td>\n",
       "      <td>Montreal, PQ / Chesterville, ON</td>\n",
       "    </tr>\n",
       "    <tr>\n",
       "      <th>2</th>\n",
       "      <td>1</td>\n",
       "      <td>0</td>\n",
       "      <td>Allison, Miss. Helen Loraine</td>\n",
       "      <td>female</td>\n",
       "      <td>2.0000</td>\n",
       "      <td>1</td>\n",
       "      <td>2</td>\n",
       "      <td>113781</td>\n",
       "      <td>151.5500</td>\n",
       "      <td>C22 C26</td>\n",
       "      <td>S</td>\n",
       "      <td>NaN</td>\n",
       "      <td>NaN</td>\n",
       "      <td>Montreal, PQ / Chesterville, ON</td>\n",
       "    </tr>\n",
       "    <tr>\n",
       "      <th>3</th>\n",
       "      <td>1</td>\n",
       "      <td>0</td>\n",
       "      <td>Allison, Mr. Hudson Joshua Creighton</td>\n",
       "      <td>male</td>\n",
       "      <td>30.0000</td>\n",
       "      <td>1</td>\n",
       "      <td>2</td>\n",
       "      <td>113781</td>\n",
       "      <td>151.5500</td>\n",
       "      <td>C22 C26</td>\n",
       "      <td>S</td>\n",
       "      <td>NaN</td>\n",
       "      <td>135.0</td>\n",
       "      <td>Montreal, PQ / Chesterville, ON</td>\n",
       "    </tr>\n",
       "    <tr>\n",
       "      <th>4</th>\n",
       "      <td>1</td>\n",
       "      <td>0</td>\n",
       "      <td>Allison, Mrs. Hudson J C (Bessie Waldo Daniels)</td>\n",
       "      <td>female</td>\n",
       "      <td>25.0000</td>\n",
       "      <td>1</td>\n",
       "      <td>2</td>\n",
       "      <td>113781</td>\n",
       "      <td>151.5500</td>\n",
       "      <td>C22 C26</td>\n",
       "      <td>S</td>\n",
       "      <td>NaN</td>\n",
       "      <td>NaN</td>\n",
       "      <td>Montreal, PQ / Chesterville, ON</td>\n",
       "    </tr>\n",
       "  </tbody>\n",
       "</table>\n",
       "</div>"
      ],
      "text/plain": [
       "   pclass  survived                                             name     sex  \\\n",
       "0       1         1                    Allen, Miss. Elisabeth Walton  female   \n",
       "1       1         1                   Allison, Master. Hudson Trevor    male   \n",
       "2       1         0                     Allison, Miss. Helen Loraine  female   \n",
       "3       1         0             Allison, Mr. Hudson Joshua Creighton    male   \n",
       "4       1         0  Allison, Mrs. Hudson J C (Bessie Waldo Daniels)  female   \n",
       "\n",
       "       age  sibsp  parch  ticket      fare    cabin embarked boat   body  \\\n",
       "0  29.0000      0      0   24160  211.3375       B5        S    2    NaN   \n",
       "1   0.9167      1      2  113781  151.5500  C22 C26        S   11    NaN   \n",
       "2   2.0000      1      2  113781  151.5500  C22 C26        S  NaN    NaN   \n",
       "3  30.0000      1      2  113781  151.5500  C22 C26        S  NaN  135.0   \n",
       "4  25.0000      1      2  113781  151.5500  C22 C26        S  NaN    NaN   \n",
       "\n",
       "                         home.dest  \n",
       "0                     St Louis, MO  \n",
       "1  Montreal, PQ / Chesterville, ON  \n",
       "2  Montreal, PQ / Chesterville, ON  \n",
       "3  Montreal, PQ / Chesterville, ON  \n",
       "4  Montreal, PQ / Chesterville, ON  "
      ]
     },
     "execution_count": 4,
     "metadata": {},
     "output_type": "execute_result"
    }
   ],
   "source": [
    "datos.head()"
   ]
  },
  {
   "cell_type": "code",
   "execution_count": 5,
   "id": "0a944220-7f9b-4731-aa55-55f6fef38d0a",
   "metadata": {},
   "outputs": [
    {
     "data": {
      "text/html": [
       "<div>\n",
       "<style scoped>\n",
       "    .dataframe tbody tr th:only-of-type {\n",
       "        vertical-align: middle;\n",
       "    }\n",
       "\n",
       "    .dataframe tbody tr th {\n",
       "        vertical-align: top;\n",
       "    }\n",
       "\n",
       "    .dataframe thead th {\n",
       "        text-align: right;\n",
       "    }\n",
       "</style>\n",
       "<table border=\"1\" class=\"dataframe\">\n",
       "  <thead>\n",
       "    <tr style=\"text-align: right;\">\n",
       "      <th></th>\n",
       "      <th>pclass</th>\n",
       "      <th>survived</th>\n",
       "      <th>age</th>\n",
       "      <th>sibsp</th>\n",
       "      <th>parch</th>\n",
       "      <th>fare</th>\n",
       "      <th>body</th>\n",
       "    </tr>\n",
       "  </thead>\n",
       "  <tbody>\n",
       "    <tr>\n",
       "      <th>count</th>\n",
       "      <td>1309.000000</td>\n",
       "      <td>1309.000000</td>\n",
       "      <td>1046.000000</td>\n",
       "      <td>1309.000000</td>\n",
       "      <td>1309.000000</td>\n",
       "      <td>1308.000000</td>\n",
       "      <td>121.000000</td>\n",
       "    </tr>\n",
       "    <tr>\n",
       "      <th>mean</th>\n",
       "      <td>2.294882</td>\n",
       "      <td>0.381971</td>\n",
       "      <td>29.881135</td>\n",
       "      <td>0.498854</td>\n",
       "      <td>0.385027</td>\n",
       "      <td>33.295479</td>\n",
       "      <td>160.809917</td>\n",
       "    </tr>\n",
       "    <tr>\n",
       "      <th>std</th>\n",
       "      <td>0.837836</td>\n",
       "      <td>0.486055</td>\n",
       "      <td>14.413500</td>\n",
       "      <td>1.041658</td>\n",
       "      <td>0.865560</td>\n",
       "      <td>51.758668</td>\n",
       "      <td>97.696922</td>\n",
       "    </tr>\n",
       "    <tr>\n",
       "      <th>min</th>\n",
       "      <td>1.000000</td>\n",
       "      <td>0.000000</td>\n",
       "      <td>0.166700</td>\n",
       "      <td>0.000000</td>\n",
       "      <td>0.000000</td>\n",
       "      <td>0.000000</td>\n",
       "      <td>1.000000</td>\n",
       "    </tr>\n",
       "    <tr>\n",
       "      <th>25%</th>\n",
       "      <td>2.000000</td>\n",
       "      <td>0.000000</td>\n",
       "      <td>21.000000</td>\n",
       "      <td>0.000000</td>\n",
       "      <td>0.000000</td>\n",
       "      <td>7.895800</td>\n",
       "      <td>72.000000</td>\n",
       "    </tr>\n",
       "    <tr>\n",
       "      <th>50%</th>\n",
       "      <td>3.000000</td>\n",
       "      <td>0.000000</td>\n",
       "      <td>28.000000</td>\n",
       "      <td>0.000000</td>\n",
       "      <td>0.000000</td>\n",
       "      <td>14.454200</td>\n",
       "      <td>155.000000</td>\n",
       "    </tr>\n",
       "    <tr>\n",
       "      <th>75%</th>\n",
       "      <td>3.000000</td>\n",
       "      <td>1.000000</td>\n",
       "      <td>39.000000</td>\n",
       "      <td>1.000000</td>\n",
       "      <td>0.000000</td>\n",
       "      <td>31.275000</td>\n",
       "      <td>256.000000</td>\n",
       "    </tr>\n",
       "    <tr>\n",
       "      <th>max</th>\n",
       "      <td>3.000000</td>\n",
       "      <td>1.000000</td>\n",
       "      <td>80.000000</td>\n",
       "      <td>8.000000</td>\n",
       "      <td>9.000000</td>\n",
       "      <td>512.329200</td>\n",
       "      <td>328.000000</td>\n",
       "    </tr>\n",
       "  </tbody>\n",
       "</table>\n",
       "</div>"
      ],
      "text/plain": [
       "            pclass     survived          age        sibsp        parch  \\\n",
       "count  1309.000000  1309.000000  1046.000000  1309.000000  1309.000000   \n",
       "mean      2.294882     0.381971    29.881135     0.498854     0.385027   \n",
       "std       0.837836     0.486055    14.413500     1.041658     0.865560   \n",
       "min       1.000000     0.000000     0.166700     0.000000     0.000000   \n",
       "25%       2.000000     0.000000    21.000000     0.000000     0.000000   \n",
       "50%       3.000000     0.000000    28.000000     0.000000     0.000000   \n",
       "75%       3.000000     1.000000    39.000000     1.000000     0.000000   \n",
       "max       3.000000     1.000000    80.000000     8.000000     9.000000   \n",
       "\n",
       "              fare        body  \n",
       "count  1308.000000  121.000000  \n",
       "mean     33.295479  160.809917  \n",
       "std      51.758668   97.696922  \n",
       "min       0.000000    1.000000  \n",
       "25%       7.895800   72.000000  \n",
       "50%      14.454200  155.000000  \n",
       "75%      31.275000  256.000000  \n",
       "max     512.329200  328.000000  "
      ]
     },
     "execution_count": 5,
     "metadata": {},
     "output_type": "execute_result"
    }
   ],
   "source": [
    "datos.describe()"
   ]
  },
  {
   "cell_type": "code",
   "execution_count": 6,
   "id": "a235c38f-132b-4b3b-b7fa-55454871dfde",
   "metadata": {},
   "outputs": [
    {
     "name": "stdout",
     "output_type": "stream",
     "text": [
      "<class 'pandas.core.frame.DataFrame'>\n",
      "RangeIndex: 1309 entries, 0 to 1308\n",
      "Data columns (total 14 columns):\n",
      " #   Column     Non-Null Count  Dtype  \n",
      "---  ------     --------------  -----  \n",
      " 0   pclass     1309 non-null   int64  \n",
      " 1   survived   1309 non-null   int64  \n",
      " 2   name       1309 non-null   object \n",
      " 3   sex        1309 non-null   object \n",
      " 4   age        1046 non-null   float64\n",
      " 5   sibsp      1309 non-null   int64  \n",
      " 6   parch      1309 non-null   int64  \n",
      " 7   ticket     1309 non-null   object \n",
      " 8   fare       1308 non-null   float64\n",
      " 9   cabin      295 non-null    object \n",
      " 10  embarked   1307 non-null   object \n",
      " 11  boat       486 non-null    object \n",
      " 12  body       121 non-null    float64\n",
      " 13  home.dest  745 non-null    object \n",
      "dtypes: float64(3), int64(4), object(7)\n",
      "memory usage: 143.3+ KB\n"
     ]
    }
   ],
   "source": [
    "datos.info()"
   ]
  },
  {
   "cell_type": "code",
   "execution_count": 7,
   "id": "c5c10d2f",
   "metadata": {},
   "outputs": [
    {
     "data": {
      "text/plain": [
       "(1309, 14)"
      ]
     },
     "execution_count": 7,
     "metadata": {},
     "output_type": "execute_result"
    }
   ],
   "source": [
    "datos.shape"
   ]
  },
  {
   "cell_type": "markdown",
   "id": "37c59742",
   "metadata": {},
   "source": [
    "## Ejemplos de uso de Seaborn para explorar los datos"
   ]
  },
  {
   "cell_type": "code",
   "execution_count": 8,
   "id": "45e60a93",
   "metadata": {},
   "outputs": [
    {
     "data": {
      "text/plain": [
       "<seaborn.axisgrid.FacetGrid at 0x20889bb1ff0>"
      ]
     },
     "execution_count": 8,
     "metadata": {},
     "output_type": "execute_result"
    },
    {
     "data": {
      "image/png": "[encoded data removed]",
      "text/plain": [
       "<Figure size 360x360 with 1 Axes>"
      ]
     },
     "metadata": {
      "needs_background": "light"
     },
     "output_type": "display_data"
    }
   ],
   "source": [
    "sns.displot(datos['pclass'])"
   ]
  },
  {
   "cell_type": "code",
   "execution_count": 9,
   "id": "2624b559",
   "metadata": {},
   "outputs": [
    {
     "data": {
      "image/png": "[encoded data removed]",
      "text/plain": [
       "<Figure size 432x288 with 1 Axes>"
      ]
     },
     "metadata": {
      "needs_background": "light"
     },
     "output_type": "display_data"
    }
   ],
   "source": [
    "sns.countplot(x = 'sex', data = datos);"
   ]
  },
  {
   "cell_type": "markdown",
   "id": "05eb9852",
   "metadata": {},
   "source": [
    "### Pura Magia"
   ]
  },
  {
   "cell_type": "code",
   "execution_count": 10,
   "id": "a582339e",
   "metadata": {
    "scrolled": true,
    "tags": []
   },
   "outputs": [],
   "source": [
    "#profile = ProfileReport(datos)\n",
    "#profile"
   ]
  },
  {
   "cell_type": "markdown",
   "id": "1c9bced2",
   "metadata": {},
   "source": [
    "Toda la información que nos da este reporte, la podemos obtener directamente con instrucciones de Pandas...obviamente, es mucho más simple dar una sola instrucción.\n",
    "\n",
    "### Conocemos los datos y ahora qué hacer para prepararlos (limpiarlos)?\n",
    "\n",
    "Pandas tiene todas las instrucciones para:\n",
    "1.  estandarizar los nombres de las variables\n",
    "2.  eliminar datos faltantes\n",
    "3.  eliminar registros duplicados\n",
    "4.  crear nuevas variables\n",
    "5.  etc.\n"
   ]
  },
  {
   "cell_type": "markdown",
   "id": "dfa912b6-0926-42c4-9a55-7cf572267bb4",
   "metadata": {},
   "source": [
    "###  Eliminar columnas\n",
    "\n",
    "* La columna \"body\" normalmente no nos será útil, eliminémosla.\n",
    "* Además la columna de home.dest tampoco es útil para el análisis."
   ]
  },
  {
   "cell_type": "code",
   "execution_count": 11,
   "id": "17d401ca-25fe-415d-a127-6d4bbbae90f1",
   "metadata": {},
   "outputs": [
    {
     "name": "stdout",
     "output_type": "stream",
     "text": [
      "Index(['pclass', 'survived', 'name', 'sex', 'age', 'sibsp', 'parch', 'ticket',\n",
      "       'fare', 'cabin', 'embarked', 'boat'],\n",
      "      dtype='object')\n"
     ]
    }
   ],
   "source": [
    "datos = datos.drop(columns=['body', 'home.dest'])\n",
    "print(datos.columns)"
   ]
  },
  {
   "cell_type": "markdown",
   "id": "b24ef2b6-46c7-4c8e-877e-2177e0162702",
   "metadata": {},
   "source": [
    "### Cambiar el tipo de algunos datos\n",
    "\n",
    "Varias de las columnas son categóricas, habrá que codificarlas"
   ]
  },
  {
   "cell_type": "markdown",
   "id": "8b45ac23",
   "metadata": {},
   "source": [
    "Las columnas categóricas son las siguientes:\n",
    "- ```sex```\n",
    "- ```cabin```\n",
    "- ```embarked```\n",
    "- ```boat```"
   ]
  },
  {
   "cell_type": "markdown",
   "id": "97a164e5",
   "metadata": {},
   "source": [
    "### Columnas antes de ser codificados"
   ]
  },
  {
   "cell_type": "code",
   "execution_count": 12,
   "id": "cc611f25",
   "metadata": {},
   "outputs": [
    {
     "name": "stdout",
     "output_type": "stream",
     "text": [
      "sex:\n",
      " 0       female\n",
      "1         male\n",
      "2       female\n",
      "3         male\n",
      "4       female\n",
      "         ...  \n",
      "1304    female\n",
      "1305    female\n",
      "1306      male\n",
      "1307      male\n",
      "1308      male\n",
      "Name: sex, Length: 1309, dtype: object\n",
      "\n",
      "embarked:\n",
      " 0       S\n",
      "1       S\n",
      "2       S\n",
      "3       S\n",
      "4       S\n",
      "       ..\n",
      "1304    C\n",
      "1305    C\n",
      "1306    C\n",
      "1307    C\n",
      "1308    S\n",
      "Name: embarked, Length: 1309, dtype: object\n",
      "\n",
      "boat:\n",
      " 0         2\n",
      "1        11\n",
      "2       NaN\n",
      "3       NaN\n",
      "4       NaN\n",
      "       ... \n",
      "1304    NaN\n",
      "1305    NaN\n",
      "1306    NaN\n",
      "1307    NaN\n",
      "1308    NaN\n",
      "Name: boat, Length: 1309, dtype: object\n"
     ]
    }
   ],
   "source": [
    "print(\"sex:\\n\",datos[\"sex\"])\n",
    "print(\"\\nembarked:\\n\",datos[\"embarked\"])\n",
    "print(\"\\nboat:\\n\",datos[\"boat\"])"
   ]
  },
  {
   "cell_type": "markdown",
   "id": "3a90149c",
   "metadata": {},
   "source": [
    "### Columnas codificadas"
   ]
  },
  {
   "cell_type": "code",
   "execution_count": 13,
   "id": "65ca7586-012d-4ac3-bc32-5961a8f3a9ce",
   "metadata": {},
   "outputs": [
    {
     "name": "stdout",
     "output_type": "stream",
     "text": [
      "sex:\n",
      " 0       0\n",
      "1       1\n",
      "2       0\n",
      "3       1\n",
      "4       0\n",
      "       ..\n",
      "1304    0\n",
      "1305    0\n",
      "1306    1\n",
      "1307    1\n",
      "1308    1\n",
      "Name: sex, Length: 1309, dtype: object\n",
      "\n",
      "embarked:\n",
      " 0       2\n",
      "1       2\n",
      "2       2\n",
      "3       2\n",
      "4       2\n",
      "       ..\n",
      "1304    0\n",
      "1305    0\n",
      "1306    0\n",
      "1307    0\n",
      "1308    2\n",
      "Name: embarked, Length: 1309, dtype: object\n",
      "\n",
      "boat:\n",
      " 0       11\n",
      "1        2\n",
      "2       27\n",
      "3       27\n",
      "4       27\n",
      "        ..\n",
      "1304    27\n",
      "1305    27\n",
      "1306    27\n",
      "1307    27\n",
      "1308    27\n",
      "Name: boat, Length: 1309, dtype: object\n"
     ]
    }
   ],
   "source": [
    "label_encoder = LabelEncoder()\n",
    "datos.loc[:, \"sex\"] = label_encoder.fit_transform(datos[\"sex\"])\n",
    "datos.loc[:, \"embarked\"] = label_encoder.fit_transform(datos[\"embarked\"])\n",
    "datos.loc[:, \"boat\"] = label_encoder.fit_transform(datos[\"boat\"])\n",
    "print(\"sex:\\n\",datos[\"sex\"])\n",
    "print(\"\\nembarked:\\n\",datos[\"embarked\"])\n",
    "print(\"\\nboat:\\n\",datos[\"boat\"])"
   ]
  },
  {
   "cell_type": "markdown",
   "id": "da0b0bde",
   "metadata": {},
   "source": [
    "### Estandarizar los nombres de las columnas:"
   ]
  },
  {
   "cell_type": "code",
   "execution_count": 14,
   "id": "c310accc",
   "metadata": {},
   "outputs": [],
   "source": [
    "datos.columns = datos.columns.str.replace(\".\", \"_\").str.lower().str.strip()"
   ]
  },
  {
   "cell_type": "markdown",
   "id": "9d2c971c",
   "metadata": {},
   "source": [
    "### Eliminar filas duplicadas"
   ]
  },
  {
   "cell_type": "markdown",
   "id": "c2a74ac5",
   "metadata": {},
   "source": [
    "Se buscan filas duplicadas"
   ]
  },
  {
   "cell_type": "code",
   "execution_count": 15,
   "id": "df511900",
   "metadata": {},
   "outputs": [
    {
     "name": "stdout",
     "output_type": "stream",
     "text": [
      "No hay filas duplicadas\n"
     ]
    }
   ],
   "source": [
    "if datos[datos.duplicated()].shape[0] > 0:\n",
    "    print(\"Hay filas duplicadas\")\n",
    "else:\n",
    "    print(\"No hay filas duplicadas\")"
   ]
  },
  {
   "cell_type": "markdown",
   "id": "da085141",
   "metadata": {},
   "source": [
    "### Reemplazar valores faltantes"
   ]
  },
  {
   "cell_type": "markdown",
   "id": "8cc3a361",
   "metadata": {},
   "source": [
    "Se buscan los valores nulos de cada columna"
   ]
  },
  {
   "cell_type": "code",
   "execution_count": 16,
   "id": "3d818f43",
   "metadata": {},
   "outputs": [
    {
     "name": "stdout",
     "output_type": "stream",
     "text": [
      "pclass         0\n",
      "survived       0\n",
      "name           0\n",
      "sex            0\n",
      "age          263\n",
      "sibsp          0\n",
      "parch          0\n",
      "ticket         0\n",
      "fare           1\n",
      "cabin       1014\n",
      "embarked       0\n",
      "boat           0\n",
      "dtype: int64\n"
     ]
    }
   ],
   "source": [
    "#Buscar valores nulos de cada columna\n",
    "print(datos.isnull().sum())"
   ]
  },
  {
   "cell_type": "markdown",
   "id": "74ab18e5",
   "metadata": {},
   "source": [
    "* La variable de ```cabin``` es ```null``` en más de **1000** filas, por lo que el hacer un tipo de reemplazo de valores puede ser engañoso. Por lo que es mejor eliminar la columna.\n",
    "* ```age``` y ```fare``` se rellenaran con el método de mediana"
   ]
  },
  {
   "cell_type": "code",
   "execution_count": 17,
   "id": "2a512560",
   "metadata": {},
   "outputs": [
    {
     "name": "stderr",
     "output_type": "stream",
     "text": [
      "C:\\Users\\Usuario\\AppData\\Local\\Temp\\ipykernel_17228\\3677003359.py:4: FutureWarning: A value is trying to be set on a copy of a DataFrame or Series through chained assignment using an inplace method.\n",
      "The behavior will change in pandas 3.0. This inplace method will never work because the intermediate object on which we are setting values always behaves as a copy.\n",
      "\n",
      "For example, when doing 'df[col].method(value, inplace=True)', try using 'df.method({col: value}, inplace=True)' or df[col] = df[col].method(value) instead, to perform the operation inplace on the original object.\n",
      "\n",
      "\n",
      "  datos['age'].fillna(datos['age'].median(), inplace=True)\n"
     ]
    }
   ],
   "source": [
    "#Eliminar columna cabin\n",
    "datos = datos.drop(columns=['cabin'])\n",
    "#rellenar age con método de media\n",
    "datos['age'].fillna(datos['age'].median(), inplace=True)\n"
   ]
  },
  {
   "cell_type": "markdown",
   "id": "fba20d8d",
   "metadata": {},
   "source": [
    "### Eliminar filas con valores faltantes"
   ]
  },
  {
   "cell_type": "code",
   "execution_count": 18,
   "id": "60f7bf18",
   "metadata": {},
   "outputs": [
    {
     "name": "stdout",
     "output_type": "stream",
     "text": [
      "Se eliminaron 1 filas con valores faltantes\n"
     ]
    }
   ],
   "source": [
    "# Guardar la cantidad de filas antes de eliminar valores faltantes\n",
    "filas_antes = datos.shape[0]\n",
    "\n",
    "# Eliminar filas con valores faltantes\n",
    "datos = datos.dropna()\n",
    "\n",
    "# Calcular la cantidad de filas eliminadas\n",
    "filas_eliminadas = filas_antes - datos.shape[0]\n",
    "\n",
    "# Imprimir el resultado\n",
    "print(\"Se eliminaron \" + str(filas_eliminadas) + \" filas con valores faltantes\")\n"
   ]
  },
  {
   "cell_type": "markdown",
   "id": "9d3107dc-4a60-4b6e-acf2-cf4f5f4540ca",
   "metadata": {},
   "source": [
    "### Explorar los datos numéricos\n",
    "\n",
    "Realizar Boxplots para cada uno"
   ]
  },
  {
   "cell_type": "code",
   "execution_count": 19,
   "id": "1617a0df-0659-4e16-aff2-be85de3f8ae9",
   "metadata": {},
   "outputs": [
    {
     "data": {
      "image/png": "[encoded data removed]",
      "text/plain": [
       "<Figure size 864x432 with 1 Axes>"
      ]
     },
     "metadata": {
      "needs_background": "light"
     },
     "output_type": "display_data"
    },
    {
     "data": {
      "image/png": "[encoded data removed]",
      "text/plain": [
       "<Figure size 864x432 with 1 Axes>"
      ]
     },
     "metadata": {
      "needs_background": "light"
     },
     "output_type": "display_data"
    },
    {
     "data": {
      "image/png": "[encoded data removed]",
      "text/plain": [
       "<Figure size 864x432 with 1 Axes>"
      ]
     },
     "metadata": {
      "needs_background": "light"
     },
     "output_type": "display_data"
    },
    {
     "data": {
      "image/png": "[encoded data removed]",
      "text/plain": [
       "<Figure size 864x432 with 1 Axes>"
      ]
     },
     "metadata": {
      "needs_background": "light"
     },
     "output_type": "display_data"
    },
    {
     "data": {
      "image/png": "[encoded data removed]",
      "text/plain": [
       "<Figure size 864x432 with 1 Axes>"
      ]
     },
     "metadata": {
      "needs_background": "light"
     },
     "output_type": "display_data"
    },
    {
     "data": {
      "image/png": "[encoded data removed]",
      "text/plain": [
       "<Figure size 864x432 with 1 Axes>"
      ]
     },
     "metadata": {
      "needs_background": "light"
     },
     "output_type": "display_data"
    }
   ],
   "source": [
    "\n",
    "# Seleccionar solo las columnas numéricas\n",
    "datos_numericos = datos.select_dtypes(include=[\"float64\", \"int64\"])\n",
    "\n",
    "# Crear boxplots\n",
    "for columna in datos_numericos.columns:\n",
    "    plt.figure(figsize=(12, 6))\n",
    "    plt.boxplot(datos_numericos[columna])  # Graficar la columna específica\n",
    "    plt.title(f\"Boxplot de {columna}\")  # Título específico para cada variable\n",
    "    plt.xlabel(columna)  # Etiqueta en el eje x\n",
    "    plt.ylabel(\"Valores\")  # Etiqueta en el eje y\n",
    "    plt.show()\n"
   ]
  },
  {
   "cell_type": "markdown",
   "id": "3fcb1094-c740-41fa-9712-e25db8e1715a",
   "metadata": {},
   "source": [
    "### Explorar los datos categóricos\n",
    "\n",
    "Realizar gráficas de barras ej. de survived, sex"
   ]
  },
  {
   "cell_type": "code",
   "execution_count": 20,
   "id": "3e9785d3-dd4f-4649-a074-eef7fa68edba",
   "metadata": {
    "tags": []
   },
   "outputs": [
    {
     "name": "stderr",
     "output_type": "stream",
     "text": [
      "C:\\Users\\Usuario\\AppData\\Local\\Temp\\ipykernel_17228\\2718467348.py:5: FutureWarning: \n",
      "\n",
      "Passing `palette` without assigning `hue` is deprecated and will be removed in v0.14.0. Assign the `x` variable to `hue` and set `legend=False` for the same effect.\n",
      "\n",
      "  sns.countplot(data=datos, x='survived', palette='viridis')\n",
      "C:\\Users\\Usuario\\AppData\\Local\\Temp\\ipykernel_17228\\2718467348.py:12: FutureWarning: \n",
      "\n",
      "Passing `palette` without assigning `hue` is deprecated and will be removed in v0.14.0. Assign the `x` variable to `hue` and set `legend=False` for the same effect.\n",
      "\n",
      "  sns.countplot(data=datos, x='sex', palette='viridis')\n"
     ]
    },
    {
     "data": {
      "image/png": "[encoded data removed]",
      "text/plain": [
       "<Figure size 864x360 with 2 Axes>"
      ]
     },
     "metadata": {
      "needs_background": "light"
     },
     "output_type": "display_data"
    }
   ],
   "source": [
    "plt.figure(figsize=(12, 5))\n",
    "\n",
    "# Gráfica de barras para 'survived'\n",
    "plt.subplot(1, 2, 1)\n",
    "sns.countplot(data=datos, x='survived', palette='viridis')\n",
    "plt.title('Distribución de Supervivencia (Survived)')\n",
    "plt.xlabel('Sobrevivio (0=No, 1=Sí)')\n",
    "plt.ylabel('Cantidad')\n",
    "\n",
    "# Gráfica de barras para 'sex'\n",
    "plt.subplot(1, 2, 2)\n",
    "sns.countplot(data=datos, x='sex', palette='viridis')\n",
    "plt.title('Distribución por Género (Sex)')\n",
    "plt.xlabel('Género (1=Hombre, 0=Mujer)')\n",
    "plt.ylabel('Cantidad')\n",
    "\n",
    "# Mostrar gráficas\n",
    "plt.tight_layout()\n",
    "plt.show()"
   ]
  },
  {
   "cell_type": "markdown",
   "id": "57e3e02d-b685-43ce-ba27-5c6925116896",
   "metadata": {},
   "source": [
    "Contrastar variables categóricas, por ej. survived vs sex con gráfica de barras apiladas (stacked)"
   ]
  },
  {
   "cell_type": "code",
   "execution_count": 21,
   "id": "7b7608aa-32a2-495d-bf48-00fa767f9d4a",
   "metadata": {},
   "outputs": [
    {
     "data": {
      "image/png": "[encoded data removed]",
      "text/plain": [
       "<Figure size 720x432 with 1 Axes>"
      ]
     },
     "metadata": {
      "needs_background": "light"
     },
     "output_type": "display_data"
    }
   ],
   "source": [
    "# Crear una tabla cruzada para 'survived' y 'sex'\n",
    "crosstab_survived_sex = pd.crosstab(index=datos['sex'], columns=datos['survived'], normalize='index')\n",
    "\n",
    "# Crear una gráfica de barras apiladas\n",
    "crosstab_survived_sex.plot(kind='bar', stacked=True, figsize=(10, 6), colormap='viridis')\n",
    "\n",
    "# Configurar títulos y etiquetas\n",
    "plt.title('Supervivencia según Género (Gráfica de Barras Apiladas)', fontsize=14)\n",
    "plt.xlabel('Género (1=Hombre, 0=Mujer)', fontsize=12)\n",
    "plt.ylabel('Proporción', fontsize=12)\n",
    "plt.xticks(rotation=0)\n",
    "plt.legend(title='Supervivencia', labels=['No sobrevivió', 'Sobrevivió'])\n",
    "plt.show()\n"
   ]
  },
  {
   "cell_type": "markdown",
   "id": "15c0203a",
   "metadata": {},
   "source": [
    "### Reducir la cardinalidad\n",
    "\n",
    "Pueden haber columas con datos categóricos demasiados variados, se podría poner un límite de frecuencia de una categoría y las que no cumplen cambiarles a un valor ötros\", o algo así"
   ]
  },
  {
   "cell_type": "code",
   "execution_count": 22,
   "id": "69724afe",
   "metadata": {},
   "outputs": [
    {
     "name": "stdout",
     "output_type": "stream",
     "text": [
      "embarked\n",
      "2        913\n",
      "0        270\n",
      "1        123\n",
      "Otros      2\n",
      "Name: count, dtype: int64\n"
     ]
    }
   ],
   "source": [
    "# Definir un umbral de frecuencia mínima\n",
    "umbral = 50  # Ejemplo: las categorías con menos de 50 ocurrencias serán agrupadas\n",
    "\n",
    "# Calcular la frecuencia de cada categoría\n",
    "frecuencia = datos['embarked'].value_counts()\n",
    "\n",
    "# Identificar las categorías que cumplen con el umbral\n",
    "categorias_comunes = frecuencia[frecuencia >= umbral].index\n",
    "\n",
    "# Reemplazar las categorías raras con \"Otros\"\n",
    "datos['embarked'] = datos['embarked'].apply(lambda x: x if x in categorias_comunes else 'Otros')\n",
    "\n",
    "# Verificar el resultado\n",
    "print(datos['embarked'].value_counts())\n"
   ]
  },
  {
   "cell_type": "markdown",
   "id": "d2a4dae6",
   "metadata": {},
   "source": [
    "### Eliminar datos atípicos"
   ]
  },
  {
   "cell_type": "code",
   "execution_count": 23,
   "id": "14ab8a1b",
   "metadata": {},
   "outputs": [
    {
     "name": "stdout",
     "output_type": "stream",
     "text": [
      "Datos restantes después de eliminar outliers: 832 filas\n"
     ]
    }
   ],
   "source": []
  },
  {
   "cell_type": "code",
   "execution_count": 29,
   "id": "dfdcc095-38a1-40a2-835f-eeafb88be7d8",
   "metadata": {},
   "outputs": [
    {
     "name": "stdout",
     "output_type": "stream",
     "text": [
      "(832, 11)\n",
      "5     26.5500\n",
      "7      0.0000\n",
      "8     51.4792\n",
      "15    25.9250\n",
      "22    30.0000\n",
      "Name: fare, dtype: float64\n"
     ]
    }
   ],
   "source": []
  },
  {
   "cell_type": "code",
   "execution_count": null,
   "id": "4e01ab69",
   "metadata": {},
   "outputs": [],
   "source": [
    "# Gráfica de distribución de pasajeros por clase y puerto de embarque\n",
    "plt.figure(figsize=(10, 6))\n",
    "sns.countplot(data=datos, x='embarked', hue='pclass', palette='Set2')\n",
    "plt.title('Distribución de Pasajeros por Clase y Puerto de Embarque', fontsize=14)\n",
    "plt.xlabel('Puerto de Embarque (0=Cherbourg, 1=Queenstown, 2=Southampton)', fontsize=12)\n",
    "plt.ylabel('Cantidad de Pasajeros', fontsize=12)\n",
    "plt.legend(title='Clase')\n",
    "plt.show()\n"
   ]
  },
  {
   "cell_type": "code",
   "execution_count": null,
   "id": "3f6ff37c",
   "metadata": {},
   "outputs": [],
   "source": [
    "# Gráfica de caja para comparar tarifas entre géneros\n",
    "plt.figure(figsize=(10, 6))\n",
    "sns.boxplot(data=datos, x='sex', y='fare', palette='coolwarm')\n",
    "plt.title('Comparación de Tarifas por Género', fontsize=14)\n",
    "plt.xlabel('Género (0=Mujer, 1=Hombre)', fontsize=12)\n",
    "plt.ylabel('Tarifa (en libras pre-1970)', fontsize=12)\n",
    "plt.show()\n"
   ]
  },
  {
   "cell_type": "code",
   "execution_count": 31,
   "id": "53da1207",
   "metadata": {},
   "outputs": [
    {
     "data": {
      "image/png": "[encoded data removed]",
      "text/plain": [
       "<Figure size 720x432 with 1 Axes>"
      ]
     },
     "metadata": {
      "needs_background": "light"
     },
     "output_type": "display_data"
    }
   ],
   "source": [
    "# Gráfica de barras apiladas para pasajeros por puerto y género\n",
    "pd.crosstab(index=datos['embarked'], columns=datos['sex']).plot(kind='bar', stacked=True, figsize=(10, 6), colormap='Accent')\n",
    "plt.title('Pasajeros por Puerto y Género', fontsize=14)\n",
    "plt.xlabel('Puerto de Embarque (0=Cherbourg, 1=Queenstown, 2=Southampton)', fontsize=12)\n",
    "plt.ylabel('Cantidad de Pasajeros', fontsize=12)\n",
    "plt.legend(title='Género', labels=['Mujer', 'Hombre'])\n",
    "plt.show()\n"
   ]
  },
  {
   "cell_type": "code",
   "execution_count": 33,
   "id": "cf61ee34",
   "metadata": {},
   "outputs": [
    {
     "data": {
      "image/png": "[encoded data removed]",
      "text/plain": [
       "<Figure size 720x432 with 1 Axes>"
      ]
     },
     "metadata": {
      "needs_background": "light"
     },
     "output_type": "display_data"
    }
   ],
   "source": [
    "# Crear una tabla cruzada para 'survived' y 'pclass'\n",
    "crosstab_survived_pclass = pd.crosstab(index=datos['pclass'], columns=datos['survived'], normalize='index')\n",
    "\n",
    "# Crear una gráfica de barras apiladas para la distribución de supervivientes según la clase\n",
    "crosstab_survived_pclass.plot(kind='bar', stacked=True, figsize=(10, 6), colormap='viridis')\n",
    "\n",
    "# Configurar títulos y etiquetas\n",
    "plt.title('Distribución de Supervivientes según la Clase', fontsize=14)\n",
    "plt.xlabel('Clase (1=Primera, 2=Segunda, 3=Tercera)', fontsize=12)\n",
    "plt.ylabel('Proporción', fontsize=12)\n",
    "plt.legend(title='Supervivencia', labels=['No sobrevivió', 'Sobrevivió'])\n",
    "plt.xticks(rotation=0)\n",
    "plt.show()\n"
   ]
  },
  {
   "cell_type": "code",
   "execution_count": 35,
   "id": "eea013e8",
   "metadata": {},
   "outputs": [
    {
     "name": "stderr",
     "output_type": "stream",
     "text": [
      "C:\\Users\\Usuario\\AppData\\Local\\Temp\\ipykernel_17228\\1116034669.py:3: FutureWarning: \n",
      "\n",
      "Passing `palette` without assigning `hue` is deprecated and will be removed in v0.14.0. Assign the `x` variable to `hue` and set `legend=False` for the same effect.\n",
      "\n",
      "  sns.boxplot(data=datos, x='embarked', y='fare', palette='coolwarm')\n"
     ]
    },
    {
     "data": {
      "image/png": "[encoded data removed]",
      "text/plain": [
       "<Figure size 720x432 with 1 Axes>"
      ]
     },
     "metadata": {
      "needs_background": "light"
     },
     "output_type": "display_data"
    }
   ],
   "source": [
    "# Gráfica de caja para comparar tarifas por puerto de embarque\n",
    "plt.figure(figsize=(10, 6))\n",
    "sns.boxplot(data=datos, x='embarked', y='fare', palette='coolwarm')\n",
    "plt.title('Relación entre Puerto de Embarque y Tarifa', fontsize=14)\n",
    "plt.xlabel('Puerto de Embarque (0=Cherbourg, 1=Queenstown, 2=Southampton)', fontsize=12)\n",
    "plt.ylabel('Tarifa (en libras pre-1970)', fontsize=12)\n",
    "plt.show()\n"
   ]
  },
  {
   "cell_type": "code",
   "execution_count": 37,
   "id": "d1057912",
   "metadata": {},
   "outputs": [
    {
     "name": "stderr",
     "output_type": "stream",
     "text": [
      "C:\\Users\\Usuario\\AppData\\Local\\Temp\\ipykernel_17228\\2396236618.py:3: FutureWarning: \n",
      "\n",
      "Passing `palette` without assigning `hue` is deprecated and will be removed in v0.14.0. Assign the `x` variable to `hue` and set `legend=False` for the same effect.\n",
      "\n",
      "  sns.violinplot(data=datos, x='survived', y='age', palette='muted')\n"
     ]
    },
    {
     "data": {
      "image/png": "[encoded data removed]",
      "text/plain": [
       "<Figure size 720x432 with 1 Axes>"
      ]
     },
     "metadata": {
      "needs_background": "light"
     },
     "output_type": "display_data"
    }
   ],
   "source": [
    "# Gráfica de dispersión para visualizar la relación entre edad y supervivencia\n",
    "plt.figure(figsize=(10, 6))\n",
    "sns.violinplot(data=datos, x='survived', y='age', palette='muted')\n",
    "plt.title('Relación entre Edad y Supervivencia', fontsize=14)\n",
    "plt.xlabel('Supervivencia (0=No, 1=Sí)', fontsize=12)\n",
    "plt.ylabel('Edad (años)', fontsize=12)\n",
    "plt.show()\n"
   ]
  }
 ],
 "metadata": {
  "kernelspec": {
   "display_name": "Python 3",
   "language": "python",
   "name": "python3"
  },
  "language_info": {
   "codemirror_mode": {
    "name": "ipython",
    "version": 3
   },
   "file_extension": ".py",
   "mimetype": "text/x-python",
   "name": "python",
   "nbconvert_exporter": "python",
   "pygments_lexer": "ipython3",
   "version": "3.10.4"
  }
 },
 "nbformat": 4,
 "nbformat_minor": 5
}
